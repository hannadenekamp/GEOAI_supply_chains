{
 "cells": [
  {
   "cell_type": "markdown",
   "metadata": {},
   "source": [
    "## Load packages"
   ]
  },
  {
   "cell_type": "code",
   "execution_count": null,
   "metadata": {},
   "outputs": [
    {
     "name": "stderr",
     "output_type": "stream",
     "text": [
      "c:\\Users\\hanna\\Anaconda3\\envs\\geothings_ox\\Lib\\site-packages\\osmnx\\projection.py:3: UserWarning: Shapely 2.0 is installed, but because PyGEOS is also installed, GeoPandas will still use PyGEOS by default for now. To force to use and test Shapely 2.0, you have to set the environment variable USE_PYGEOS=0. You can do this before starting the Python process, or in your code before importing geopandas:\n",
      "\n",
      "import os\n",
      "os.environ['USE_PYGEOS'] = '0'\n",
      "import geopandas\n",
      "\n",
      "In a future release, GeoPandas will switch to using Shapely by default. If you are using PyGEOS directly (calling PyGEOS functions on geometries from GeoPandas), this will then stop working and you are encouraged to migrate from PyGEOS to Shapely 2.0 (https://shapely.readthedocs.io/en/latest/migration_pygeos.html).\n",
      "  import geopandas as gpd\n",
      "c:\\Users\\hanna\\Anaconda3\\envs\\geothings_ox\\Lib\\site-packages\\libpysal\\cg\\alpha_shapes.py:38: NumbaDeprecationWarning: \u001b[1mThe 'nopython' keyword argument was not supplied to the 'numba.jit' decorator. The implicit default value for this argument is currently False, but it will be changed to True in Numba 0.59.0. See https://numba.readthedocs.io/en/stable/reference/deprecation.html#deprecation-of-object-mode-fall-back-behaviour-when-using-jit for details.\u001b[0m\n",
      "  @jit\n",
      "c:\\Users\\hanna\\Anaconda3\\envs\\geothings_ox\\Lib\\site-packages\\libpysal\\cg\\alpha_shapes.py:164: NumbaDeprecationWarning: \u001b[1mThe 'nopython' keyword argument was not supplied to the 'numba.jit' decorator. The implicit default value for this argument is currently False, but it will be changed to True in Numba 0.59.0. See https://numba.readthedocs.io/en/stable/reference/deprecation.html#deprecation-of-object-mode-fall-back-behaviour-when-using-jit for details.\u001b[0m\n",
      "  @jit\n",
      "c:\\Users\\hanna\\Anaconda3\\envs\\geothings_ox\\Lib\\site-packages\\libpysal\\cg\\alpha_shapes.py:198: NumbaDeprecationWarning: \u001b[1mThe 'nopython' keyword argument was not supplied to the 'numba.jit' decorator. The implicit default value for this argument is currently False, but it will be changed to True in Numba 0.59.0. See https://numba.readthedocs.io/en/stable/reference/deprecation.html#deprecation-of-object-mode-fall-back-behaviour-when-using-jit for details.\u001b[0m\n",
      "  @jit\n",
      "c:\\Users\\hanna\\Anaconda3\\envs\\geothings_ox\\Lib\\site-packages\\libpysal\\cg\\alpha_shapes.py:260: NumbaDeprecationWarning: \u001b[1mThe 'nopython' keyword argument was not supplied to the 'numba.jit' decorator. The implicit default value for this argument is currently False, but it will be changed to True in Numba 0.59.0. See https://numba.readthedocs.io/en/stable/reference/deprecation.html#deprecation-of-object-mode-fall-back-behaviour-when-using-jit for details.\u001b[0m\n",
      "  @jit\n"
     ]
    }
   ],
   "source": [
    "import networkx as nx\n",
    "import random\n",
    "from itertools import combinations, count\n",
    "import numpy as np\n",
    "import matplotlib.pyplot as plt\n",
    "# create number for each group to allow use of colormap\n",
    "from itertools import count, product\n",
    "import osmnx as ox\n",
    "import graph_funcs as gf\n",
    "import os\n",
    "import general_file_handling as gfh\n",
    "import prepare_raster as pr\n",
    "\n",
    "import earthpy as et\n",
    "import earthpy.spatial as es\n",
    "import earthpy.plot as ep\n",
    "from rasterio.plot import plotting_extent\n",
    "import pandas as pd\n",
    "\n",
    "from itertools import product\n",
    "from tqdm import trange\n",
    "from joblib import Parallel, delayed\n",
    "from tqdm.notebook import trange, tqdm\n",
    "\n",
    "from itertools import product\n",
    "\n",
    "import pickle    \n",
    "from matplotlib.lines import Line2D\n",
    "import matplotlib as mpl\n",
    "import seaborn as sns\n"
   ]
  },
  {
   "cell_type": "code",
   "execution_count": null,
   "metadata": {},
   "outputs": [],
   "source": [
    "from importlib.metadata import version\n",
    "version('osmnx')\n",
    "from collections import Counter, defaultdict\n",
    "\n",
    "pathname = '../Data/dem2/ASTGTMV003_N08W074'\n",
    "from rasterio.plot import show\n",
    "from rasterio.merge import merge\n",
    "import rasterio as rio\n",
    "from pathlib import Path\n",
    "import glob\n",
    "from shapely.geometry import Point, LineString\n"
   ]
  },
  {
   "cell_type": "markdown",
   "metadata": {},
   "source": [
    "## Merge raster\n"
   ]
  },
  {
   "cell_type": "code",
   "execution_count": null,
   "metadata": {},
   "outputs": [
    {
     "name": "stdout",
     "output_type": "stream",
     "text": [
      "file exists\n"
     ]
    }
   ],
   "source": [
    "path = 'C:/Users/hanna/Documents/EPA/scriptie/shp/*.tif'\n",
    "# Path('output').mkdir(parents=True, exist_ok=True)\n",
    "output_path = 'output/mosaic_output.tif'\n",
    "if os.path.exists(output_path):\n",
    "    print('file exists')\n",
    "else:\n",
    "\n",
    "    raster_files =[]\n",
    "    raster_files.extend(glob.glob(path))\n",
    "\n",
    "    raster_to_mosiac = []\n",
    "    for p in raster_files:\n",
    "        raster = rio.open(p)\n",
    "        raster_to_mosiac.append(raster)\n",
    "\n",
    "    mosaic, output = merge(raster_to_mosiac)\n",
    "\n",
    "    output_meta = raster.meta.copy()\n",
    "    output_meta.update(\n",
    "        {\"driver\": \"GTiff\",\n",
    "            \"height\": mosaic.shape[1],\n",
    "            \"width\": mosaic.shape[2],\n",
    "            \"transform\": output,\n",
    "        })\n",
    "\n",
    "    with rio.open(output_path, \"w\", **output_meta) as m:\n",
    "        m.write(mosaic)"
   ]
  },
  {
   "cell_type": "markdown",
   "metadata": {},
   "source": [
    "## edge attributes"
   ]
  },
  {
   "cell_type": "code",
   "execution_count": null,
   "metadata": {},
   "outputs": [],
   "source": [
    "def add_elev(G_proj, pathname):\n",
    "    # G_proj = ox.project_graph(G_proj, to_crs=4326)\n",
    "    # (print(G_proj.nodes))\n",
    "    G_proj = ox.add_node_elevations_raster(G_proj,pathname )\n",
    "    return G_proj"
   ]
  },
  {
   "cell_type": "code",
   "execution_count": null,
   "metadata": {},
   "outputs": [],
   "source": [
    "\n",
    "#load graph\n",
    "graph_counter_l_prev = 10\n",
    "G_wrl_cnct = ox.io.load_graphml(filepath=pathname+f'_graph_{graph_counter_l_prev}_l.osm')\n",
    "\n",
    "\n",
    "\n",
    "# G = ox.add_edge_travel_times(ox.add_edge_speeds(G))\n"
   ]
  },
  {
   "cell_type": "code",
   "execution_count": null,
   "metadata": {},
   "outputs": [],
   "source": [
    "nodes_gtt, edges_gtt= ox.utils_graph.graph_to_gdfs(G_wrl_cnct)"
   ]
  },
  {
   "cell_type": "code",
   "execution_count": null,
   "metadata": {},
   "outputs": [],
   "source": [
    "\n",
    "def reset_geom(row):\n",
    "\n",
    "    x_start = nodes_gtt.loc[row['u']]['x']\n",
    "    y_start = nodes_gtt.loc[row['u']]['y']\n",
    "    x_end = nodes_gtt.loc[row['v']]['x']\n",
    "    y_end = nodes_gtt.loc[row['v']]['y']\n",
    "    \n",
    "    row['geometry_old_pnt'] = LineString([row['geometry'].coords[0], row['geometry'].coords[-1]])\n",
    "\n",
    "\n",
    "    row['geometry'] = LineString([[x_start,y_start],[x_end,y_end]])\n",
    "    \n",
    "    return row\n"
   ]
  },
  {
   "cell_type": "code",
   "execution_count": null,
   "metadata": {},
   "outputs": [],
   "source": [
    "#TODO: een verbinding met twee nodes, maar wel een enorme afstand\n",
    "G_tt_reset = edges_gtt.reset_index()\n",
    "\n",
    "\n",
    "G_tt_reset_old= G_tt_reset.to_crs(21897)\n",
    "\n",
    "G_tt_reset['geometry_old_proj'] = G_tt_reset_old['geometry']\n",
    "G_tt_reset['geometry_old'] = G_tt_reset['geometry']\n",
    "\n",
    "\n",
    "\n",
    "# G_tt_reset = G_tt_reset.to_crs(21897)\n",
    "# G_tt_reset['length_old'] = [row['geometry'].length for i,row in G_tt_reset.iterrows()]\n",
    "# G_tt_reset = G_tt_reset.to_crs(4326)\n",
    "# G_tt_reset.loc[G_tt_reset['type'] == 'air', 'length'] = G_tt_reset.loc[G_tt_reset['type'] == 'air', 'length_old']\n",
    "\n",
    "G_tt_reset= G_tt_reset.apply(reset_geom, axis=1)\n",
    "G_tt_reset['new_geom'] = G_tt_reset['geometry']\n",
    "G_tt_reset_proj = G_tt_reset.to_crs(21897)\n",
    "G_tt_reset_proj['length_old'] = [row['geometry_old_proj'].length for i,row in G_tt_reset_proj.iterrows()]\n",
    "\n",
    "#recalculate length\n",
    "G_tt_reset_proj['length_new'] = [row['geometry'].length for i,row in G_tt_reset_proj.iterrows()]\n",
    "\n",
    "G_tt_reset_proj['length_diff'] = G_tt_reset_proj['length_new'] - G_tt_reset_proj['length_old'] \n",
    "G_tt_reset_proj = G_tt_reset_proj.to_crs(4326)\n",
    "\n",
    "\n",
    "#remove too long water road edges\n",
    "#also select water edges that only have two points"
   ]
  },
  {
   "cell_type": "code",
   "execution_count": null,
   "metadata": {},
   "outputs": [],
   "source": [
    "G_tt_reset_proj_save = G_tt_reset_proj"
   ]
  },
  {
   "cell_type": "code",
   "execution_count": null,
   "metadata": {},
   "outputs": [],
   "source": [
    "G_tt_reset_proj_wr = G_tt_reset_proj.loc[((G_tt_reset_proj['type'] == 'water') | (G_tt_reset_proj['type'] == 'water_road') | (G_tt_reset_proj['type'] == 'road'))]\n",
    "G_tt_reset_proj_wr_sorted = G_tt_reset_proj_wr.loc[G_tt_reset_proj['length_diff'] >500]\n",
    "\n"
   ]
  },
  {
   "cell_type": "code",
   "execution_count": null,
   "metadata": {},
   "outputs": [],
   "source": [
    "#TODO: create list with counts of both u and v\n",
    "from collections import Counter\n",
    "u_list = G_tt_reset_proj_wr_sorted['u'].to_list()\n",
    "v_list = G_tt_reset_proj_wr_sorted['v'].to_list()\n",
    "uv_list = u_list+v_list\n",
    "\n",
    "counts= Counter(uv_list)\n"
   ]
  },
  {
   "cell_type": "code",
   "execution_count": null,
   "metadata": {},
   "outputs": [],
   "source": [
    "nodes_lst = []\n",
    "for key,count in counts.items():  # for name, age in dictionary.iteritems():  (for Python 2.x)\n",
    "    if count >1 :\n",
    "        nodes_lst.append(key)"
   ]
  },
  {
   "cell_type": "code",
   "execution_count": null,
   "metadata": {},
   "outputs": [],
   "source": [
    "nodes_lst_dct = dict.fromkeys((64654327, 64381833, 64133978, 63590120, 64627310, 64584751, 64617184, 64637139, 64681666, 63875838, 61030720, 65091159))\n",
    "\n",
    "count=0\n",
    "for i,row in G_tt_reset_proj_wr_sorted.sort_values(by='v').iterrows():\n",
    "    if row['u'] in nodes_lst:\n",
    "        # print(row)\n",
    "        nodes_lst_dct[row['u']] = [row['geometry_old'].coords[0], count]\n",
    "        count+=1"
   ]
  },
  {
   "cell_type": "code",
   "execution_count": null,
   "metadata": {},
   "outputs": [],
   "source": [
    "for i, row in G_tt_reset_proj_wr_sorted.iterrows():\n",
    "    if row['u'] in nodes_lst_dct.keys():\n",
    "        # print(G_tt_reset_proj.loc[(G_tt_reset_proj['u'] == row['u']) &(G_tt_reset_proj['v'] == row['v'])&(G_tt_reset_proj['key'] == row['key'])])\n",
    "        G_tt_reset_proj.loc[(G_tt_reset_proj['u'] == row['u']) &(G_tt_reset_proj['v'] == row['v'])&(G_tt_reset_proj['key'] == row['key']), 'u'] = nodes_lst_dct[row['u']][1]\n",
    "    if row['v'] in nodes_lst_dct.keys():\n",
    "        G_tt_reset_proj.loc[(G_tt_reset_proj['u'] == row['u']) &(G_tt_reset_proj['v'] == row['v'])&(G_tt_reset_proj['key'] == row['key']), 'v'] = nodes_lst_dct[row['v']][1]"
   ]
  },
  {
   "cell_type": "code",
   "execution_count": null,
   "metadata": {},
   "outputs": [],
   "source": [
    "nodes_gtt.reset_index(inplace=True)"
   ]
  },
  {
   "cell_type": "code",
   "execution_count": null,
   "metadata": {},
   "outputs": [],
   "source": [
    "\n",
    "for key in nodes_lst_dct.keys():\n",
    "    x = nodes_lst_dct[key][0][0]\n",
    "    y = nodes_lst_dct[key][0][1]\n",
    "    geom = Point(x,y)\n",
    "    df = pd.DataFrame.from_dict({'osmid': [nodes_lst_dct[key][1]], 'x':[x], 'y': [y], 'geometry': [geom] })\n",
    "    nodes_gtt = pd.concat([nodes_gtt, df], ignore_index=True)\n"
   ]
  },
  {
   "cell_type": "code",
   "execution_count": null,
   "metadata": {},
   "outputs": [],
   "source": [
    "G_tt_reset_proj['geometry'] = G_tt_reset_proj['geometry_old']\n",
    "G_tt_reset_proj = G_tt_reset_proj.set_index(['u', 'v', 'key'])\n"
   ]
  },
  {
   "cell_type": "code",
   "execution_count": null,
   "metadata": {},
   "outputs": [],
   "source": [
    "nodes_gtt = nodes_gtt.set_index(\"osmid\")\n",
    "nodes_gtt = nodes_gtt.set_geometry(\"geometry\")"
   ]
  },
  {
   "cell_type": "code",
   "execution_count": null,
   "metadata": {},
   "outputs": [],
   "source": [
    "G_wrl_cnct_fix =  ox.utils_graph.graph_from_gdfs(nodes_gtt, G_tt_reset_proj, {'crs': 'EPSG:4326'})\n"
   ]
  },
  {
   "cell_type": "code",
   "execution_count": null,
   "metadata": {},
   "outputs": [
    {
     "name": "stderr",
     "output_type": "stream",
     "text": [
      "c:\\Users\\hanna\\Anaconda3\\envs\\geothings_ox\\Lib\\site-packages\\osmnx\\elevation.py:68: RuntimeWarning: divide by zero encountered in divide\n",
      "  grades = ((elevs[:, 1] - elevs[:, 0]) / np.array(lengths)).round(precision)\n",
      "c:\\Users\\hanna\\Anaconda3\\envs\\geothings_ox\\Lib\\site-packages\\osmnx\\elevation.py:68: RuntimeWarning: invalid value encountered in divide\n",
      "  grades = ((elevs[:, 1] - elevs[:, 0]) / np.array(lengths)).round(precision)\n"
     ]
    }
   ],
   "source": [
    "#add elevation\n",
    "G_elev = add_elev(G_wrl_cnct_fix, output_path)\n",
    "\n",
    "#add edge grades\n",
    "G_grade = ox.elevation.add_edge_grades(G_elev)\n",
    "\n",
    "G_speed = ox.add_edge_speeds(G_grade)\n"
   ]
  },
  {
   "cell_type": "code",
   "execution_count": null,
   "metadata": {},
   "outputs": [],
   "source": [
    "#make gdf from graph\n",
    "nodes_g, edges_g = ox.utils_graph.graph_to_gdfs(G_speed)"
   ]
  },
  {
   "cell_type": "code",
   "execution_count": null,
   "metadata": {},
   "outputs": [],
   "source": [
    "edges_g['modality'] = None\n",
    "edges_g['fuel_consump'] = None\n",
    "edges_g['monthly_wage'] = None\n",
    "edges_g['travel_risk'] = None\n",
    "edges_g['transit_cost'] = None\n",
    "edges_g['transit_risk'] = None\n",
    "edges_g['load'] = None"
   ]
  },
  {
   "cell_type": "code",
   "execution_count": null,
   "metadata": {},
   "outputs": [
    {
     "name": "stderr",
     "output_type": "stream",
     "text": [
      "C:\\Users\\hanna\\AppData\\Local\\Temp\\ipykernel_4744\\1941580811.py:3: PerformanceWarning: indexing past lexsort depth may impact performance.\n",
      "  edges_g.loc[(63816700, 63816707,0),'type'] = 'port_connect_small'\n",
      "C:\\Users\\hanna\\AppData\\Local\\Temp\\ipykernel_4744\\1941580811.py:4: PerformanceWarning: indexing past lexsort depth may impact performance.\n",
      "  edges_g.loc[(62975570, 62972555, 0),'type'] = 'port_connect_small'\n"
     ]
    }
   ],
   "source": [
    "# Assign Small ports = VEPBL COBAQ\n",
    "\n",
    "edges_g.loc[(63816700, 63816707,0),'type'] = 'port_connect_small'\n",
    "edges_g.loc[(62975570, 62972555, 0),'type'] = 'port_connect_small'\n",
    "nodes_g.loc[63816700,'type'] = 'port_small'\n",
    "nodes_g.loc[62975570,'type'] = 'port_small'\n"
   ]
  },
  {
   "cell_type": "code",
   "execution_count": null,
   "metadata": {},
   "outputs": [],
   "source": [
    "with open(\"./ports_distances.csv\", 'rb') as f:  # notice the r instead of w\n",
    "    port_dist = pd.read_csv(f, delimiter= ';')\n"
   ]
  },
  {
   "cell_type": "code",
   "execution_count": null,
   "metadata": {},
   "outputs": [
    {
     "data": {
      "text/html": [
       "<div>\n",
       "<style scoped>\n",
       "    .dataframe tbody tr th:only-of-type {\n",
       "        vertical-align: middle;\n",
       "    }\n",
       "\n",
       "    .dataframe tbody tr th {\n",
       "        vertical-align: top;\n",
       "    }\n",
       "\n",
       "    .dataframe thead th {\n",
       "        text-align: right;\n",
       "    }\n",
       "</style>\n",
       "<table border=\"1\" class=\"dataframe\">\n",
       "  <thead>\n",
       "    <tr style=\"text-align: right;\">\n",
       "      <th></th>\n",
       "      <th>Port_1</th>\n",
       "      <th>Port_2</th>\n",
       "      <th>Dist_km</th>\n",
       "      <th>Time (uur)</th>\n",
       "      <th>Speed (knots)</th>\n",
       "      <th>Modality</th>\n",
       "      <th>osmid</th>\n",
       "    </tr>\n",
       "  </thead>\n",
       "  <tbody>\n",
       "    <tr>\n",
       "      <th>0</th>\n",
       "      <td>COCTG</td>\n",
       "      <td>ESALG</td>\n",
       "      <td>7597.420</td>\n",
       "      <td>293.0</td>\n",
       "      <td>25.928</td>\n",
       "      <td>Vessel</td>\n",
       "      <td>[30704232, 65132273]</td>\n",
       "    </tr>\n",
       "    <tr>\n",
       "      <th>1</th>\n",
       "      <td>FRDKK</td>\n",
       "      <td>ESALG</td>\n",
       "      <td>2309.110</td>\n",
       "      <td>89.0</td>\n",
       "      <td>25.928</td>\n",
       "      <td>Vessel</td>\n",
       "      <td>[30704232, 53195375]</td>\n",
       "    </tr>\n",
       "    <tr>\n",
       "      <th>2</th>\n",
       "      <td>NLRTM</td>\n",
       "      <td>ESALG</td>\n",
       "      <td>2506.070</td>\n",
       "      <td>96.0</td>\n",
       "      <td>25.928</td>\n",
       "      <td>Vessel</td>\n",
       "      <td>[30704232, 56020150]</td>\n",
       "    </tr>\n",
       "    <tr>\n",
       "      <th>3</th>\n",
       "      <td>ESVLC</td>\n",
       "      <td>BEANR</td>\n",
       "      <td>3213.840</td>\n",
       "      <td>123.0</td>\n",
       "      <td>25.928</td>\n",
       "      <td>Vessel</td>\n",
       "      <td>[55656241, 39117447]</td>\n",
       "    </tr>\n",
       "    <tr>\n",
       "      <th>4</th>\n",
       "      <td>PAMIT</td>\n",
       "      <td>BEANR</td>\n",
       "      <td>9517.870</td>\n",
       "      <td>367.0</td>\n",
       "      <td>25.928</td>\n",
       "      <td>Vessel</td>\n",
       "      <td>[55656241, 70520231]</td>\n",
       "    </tr>\n",
       "    <tr>\n",
       "      <th>...</th>\n",
       "      <td>...</td>\n",
       "      <td>...</td>\n",
       "      <td>...</td>\n",
       "      <td>...</td>\n",
       "      <td>...</td>\n",
       "      <td>...</td>\n",
       "      <td>...</td>\n",
       "    </tr>\n",
       "    <tr>\n",
       "      <th>90</th>\n",
       "      <td>VEPBL</td>\n",
       "      <td>NLRTM</td>\n",
       "      <td>7924.708</td>\n",
       "      <td>306.0</td>\n",
       "      <td>25.928</td>\n",
       "      <td>Vessel</td>\n",
       "      <td>[56020150, 57526123]</td>\n",
       "    </tr>\n",
       "    <tr>\n",
       "      <th>91</th>\n",
       "      <td>VELAG</td>\n",
       "      <td>NLVLI</td>\n",
       "      <td>7758.028</td>\n",
       "      <td>299.0</td>\n",
       "      <td>25.928</td>\n",
       "      <td>Vessel</td>\n",
       "      <td>[55039437, 56350873]</td>\n",
       "    </tr>\n",
       "    <tr>\n",
       "      <th>92</th>\n",
       "      <td>VEPBL</td>\n",
       "      <td>NLVLI</td>\n",
       "      <td>7841.368</td>\n",
       "      <td>302.0</td>\n",
       "      <td>25.928</td>\n",
       "      <td>Vessel</td>\n",
       "      <td>[55039437, 57526123]</td>\n",
       "    </tr>\n",
       "    <tr>\n",
       "      <th>93</th>\n",
       "      <td>VELAG</td>\n",
       "      <td>VEGUT</td>\n",
       "      <td>268.540</td>\n",
       "      <td>10.0</td>\n",
       "      <td>25.928</td>\n",
       "      <td>Feeder</td>\n",
       "      <td>[54342630, 56350873]</td>\n",
       "    </tr>\n",
       "    <tr>\n",
       "      <th>94</th>\n",
       "      <td>VEPBL</td>\n",
       "      <td>VELAG</td>\n",
       "      <td>NaN</td>\n",
       "      <td>NaN</td>\n",
       "      <td>25.928</td>\n",
       "      <td>Feeder</td>\n",
       "      <td>[56350873, 57526123]</td>\n",
       "    </tr>\n",
       "  </tbody>\n",
       "</table>\n",
       "<p>95 rows × 7 columns</p>\n",
       "</div>"
      ],
      "text/plain": [
       "   Port_1 Port_2   Dist_km  Time (uur)  Speed (knots) Modality  \\\n",
       "0   COCTG  ESALG  7597.420       293.0         25.928   Vessel   \n",
       "1   FRDKK  ESALG  2309.110        89.0         25.928   Vessel   \n",
       "2   NLRTM  ESALG  2506.070        96.0         25.928   Vessel   \n",
       "3   ESVLC  BEANR  3213.840       123.0         25.928   Vessel   \n",
       "4   PAMIT  BEANR  9517.870       367.0         25.928   Vessel   \n",
       "..    ...    ...       ...         ...            ...      ...   \n",
       "90  VEPBL  NLRTM  7924.708       306.0         25.928   Vessel   \n",
       "91  VELAG  NLVLI  7758.028       299.0         25.928   Vessel   \n",
       "92  VEPBL  NLVLI  7841.368       302.0         25.928   Vessel   \n",
       "93  VELAG  VEGUT   268.540        10.0         25.928   Feeder   \n",
       "94  VEPBL  VELAG       NaN         NaN         25.928   Feeder   \n",
       "\n",
       "                   osmid  \n",
       "0   [30704232, 65132273]  \n",
       "1   [30704232, 53195375]  \n",
       "2   [30704232, 56020150]  \n",
       "3   [55656241, 39117447]  \n",
       "4   [55656241, 70520231]  \n",
       "..                   ...  \n",
       "90  [56020150, 57526123]  \n",
       "91  [55039437, 56350873]  \n",
       "92  [55039437, 57526123]  \n",
       "93  [54342630, 56350873]  \n",
       "94  [56350873, 57526123]  \n",
       "\n",
       "[95 rows x 7 columns]"
      ]
     },
     "metadata": {},
     "output_type": "display_data"
    }
   ],
   "source": [
    "port_dist"
   ]
  },
  {
   "cell_type": "code",
   "execution_count": null,
   "metadata": {},
   "outputs": [],
   "source": [
    "def label_modality(row):\n",
    "     #TODO: check port connect\n",
    "     label_lst = ['water_road_overside', 'road', 'water_road',\n",
    "          'field_connect', 'airstrip_connect', 'lab_connect', 'port_connect', 'water_road_overside']\n",
    "     vessel_lst= port_dist.loc[port_dist['Modality'] == 'Vessel'].osmid.to_list()\n",
    "     sea_edges= port_dist.osmid.to_list()\n",
    "     \n",
    "     if row['type'] in label_lst and row['grade'] < 30:\n",
    "          row['modality'] = 'truck'\n",
    "          row['fuel_consump'] = 0.11\n",
    "          row['monthly_wage'] = 1020\n",
    "          row['travel_risk'] = 0.02\n",
    "          row['load'] = 100\n",
    "          if np.isnan(row['speed_kph']):\n",
    "               # print(row)\n",
    "               row['speed_kph'] = 41.265345\n",
    "     elif row['type'] in label_lst:\n",
    "          row['modality'] =  'donkey'\n",
    "          row['speed_kph'] = 5\n",
    "          row['fuel_consump'] = 0\n",
    "          row['monthly_wage'] = 1020\n",
    "          row['travel_risk'] = 0.01\n",
    "          row['load'] = 50\n",
    "\n",
    "     elif row['type'] == 'water':\n",
    "          row['modality'] =  'motorboat'\n",
    "          row['speed_kph'] = 45\n",
    "          row['fuel_consump'] = 0.22\n",
    "          row['monthly_wage'] = 1020\n",
    "          row['travel_risk'] = 0.02\n",
    "          row['load'] = 200\n",
    "\n",
    "     elif row['type'] == 'air':\n",
    "          row['modality'] =  'plane'\n",
    "          row['speed_kph'] = 357\n",
    "          row['fuel_consump'] = 0.24\n",
    "          row['monthly_wage'] = 1700\n",
    "          row['travel_risk'] = 0.1\n",
    "          row['load'] = 500\n",
    "          if row['length'] > 1700000:\n",
    "               row['type'] = 'air_remove'\n",
    "\n",
    "     elif row['type'] == 'sea' and str(row['osmid']) in vessel_lst:\n",
    "          row['modality'] =  'vessel'\n",
    "          row['speed_kph'] = 23.73\n",
    "          # print(row['osmid'])\n",
    "          row['length'] = port_dist.loc[port_dist['osmid'] == str(row['osmid'])].Dist_km.to_list()[0]*1000\n",
    "          row['fuel_consump'] = 0\n",
    "          row['monthly_wage'] = 0\n",
    "          row['travel_risk'] = 0.05\n",
    "          row['load'] = 500\n",
    "\n",
    "     elif row['type'] == 'sea':\n",
    "          row['modality'] =  'feeder'\n",
    "          row['speed_kph'] = 23.73\n",
    "          # print(row['osmid'])\n",
    "          row['length'] = port_dist.loc[port_dist['osmid'] == str(row['osmid'])].Dist_km.to_list()[0]*1000\n",
    "          row['fuel_consump'] = 0\n",
    "          row['monthly_wage'] = 0\n",
    "          row['travel_risk'] = 0.05\n",
    "          row['load'] = 500\n",
    "\n",
    "     else:\n",
    "          #TODO: check if this is correct/makes sense?\n",
    "          row['speed_kph'] = 0\n",
    "          \n",
    "     if row['length'] == 0:\n",
    "          row['modality'] = 'no modality'\n",
    "\n",
    "     return row"
   ]
  },
  {
   "cell_type": "code",
   "execution_count": null,
   "metadata": {},
   "outputs": [],
   "source": [
    "edges_g_mods = edges_g.apply(label_modality, axis=1)"
   ]
  },
  {
   "cell_type": "code",
   "execution_count": null,
   "metadata": {},
   "outputs": [],
   "source": [
    "\n",
    "# convert distance meters to km, and speed km per hour to km per second\n",
    "distance_km = edges_g_mods[\"length\"] / 1000\n",
    "speed_km_sec = edges_g_mods[\"speed_kph\"] / (60 * 60)\n",
    "\n",
    "# calculate edge travel time in seconds\n",
    "travel_time = distance_km / speed_km_sec\n",
    "\n",
    "# add travel time attribute to graph edges\n",
    "edges_g_mods[\"travel_time\"] = travel_time.round(1).to_numpy()\n"
   ]
  },
  {
   "cell_type": "markdown",
   "metadata": {},
   "source": [
    "Path Type                  Transit Time (hours)\n",
    "- Water road connection          0.5\n",
    "- Small port path                12\n",
    "- Large port path                12\n",
    "- Airstrip path                  0.75\n",
    "- Seaway                         24\n",
    "- Airway                         1.5\n"
   ]
  },
  {
   "cell_type": "markdown",
   "metadata": {},
   "source": [
    "'road''air''water''water_road' 'lab_connect''field_connect''water_road_overside''transhipment_airstrip''airstrip_connect''sea' 'transhipment_port' 'port_connect'\n"
   ]
  },
  {
   "cell_type": "code",
   "execution_count": null,
   "metadata": {},
   "outputs": [],
   "source": [
    "def add_transit_times(row):\n",
    "     #TODO: check port connect\n",
    "     # print(row['type'])\n",
    "    \n",
    "     if row['type'] == 'water_road' or row['type'] == 'water_road_overside':\n",
    "          row['travel_time'] +=(0.5*60*60)\n",
    "          row['transit_cost'] = 25\n",
    "          row['transit_risk'] = 0.3\n",
    "          \n",
    "     elif row['type'] == 'airstrip_connect':\n",
    "          row['travel_time'] +=(0.75*60*60)\n",
    "          row['transit_cost'] = 25\n",
    "          row['transit_risk'] = 0.15\n",
    "\n",
    "     elif row['type'] == 'air':\n",
    "          row['travel_time'] +=(1.5*60*60)\n",
    "          row['transit_cost'] = 50\n",
    "          row['transit_risk'] = 0.5\n",
    "\n",
    "     elif row['type'] == 'sea':\n",
    "          # print(row['travel_time'])\n",
    "          row['travel_time'] +=(24*60*60)\n",
    "          row['transit_cost'] = 50\n",
    "          row['transit_risk'] = 0.5\n",
    "\n",
    "          # print(row['travel_time'])\n",
    "     elif row['type'] == 'port_connect_small':\n",
    "          # print(row['travel_time'])\n",
    "          row['travel_time'] +=(12*60*60)\n",
    "          row['transit_cost'] = 25\n",
    "          row['transit_risk'] = 0.25\n",
    "\n",
    "     elif row['type'] == 'port_connect':\n",
    "          # print(row['travel_time'])\n",
    "          row['travel_time'] +=(12*60*60)\n",
    "          row['transit_cost'] = 50\n",
    "          row['transit_risk'] = 0.55\n",
    "     else:\n",
    "          row['transit_cost'] = 0\n",
    "          row['transit_risk'] = 0\n",
    "\n",
    "\n",
    "          # print(row['travel_time'])\n",
    "          \n",
    "     return row"
   ]
  },
  {
   "cell_type": "code",
   "execution_count": null,
   "metadata": {},
   "outputs": [],
   "source": [
    "edges_gtt = edges_g_mods.apply(add_transit_times, axis=1)"
   ]
  },
  {
   "cell_type": "code",
   "execution_count": null,
   "metadata": {},
   "outputs": [],
   "source": [
    "def add_total_cost(row):\n",
    "    km_wage = row['monthly_wage']/((42*52)/12)\n",
    "    if row['speed_kph'] == 0:\n",
    "        wage=0\n",
    "    else:\n",
    "        wage = (km_wage/row['speed_kph'])\n",
    "    travel_cost = wage*row['length'] + row['fuel_consump']*row['length']\n",
    "    transit_cost = row['load']* row['transit_cost']\n",
    "    row['cost'] = (transit_cost+travel_cost)*(500/row['load'])\n",
    "    return row\n",
    "\n",
    "def add_total_risk(row):\n",
    "    row['risk'] = row['transit_risk'] + row['travel_risk']\n",
    "    return row\n",
    "\n"
   ]
  },
  {
   "cell_type": "code",
   "execution_count": null,
   "metadata": {},
   "outputs": [],
   "source": [
    "edges_g['cost'] = None\n",
    "edges_gcost = edges_gtt.apply(add_total_cost, axis=1)\n",
    "\n",
    "edges_g['risk'] = None\n",
    "edges_gtrc = edges_gcost.apply(add_total_risk, axis=1)\n"
   ]
  },
  {
   "cell_type": "code",
   "execution_count": null,
   "metadata": {},
   "outputs": [],
   "source": [
    "G_tt= ox.utils_graph.graph_from_gdfs(nodes_g, edges_gtrc, {'crs': 'EPSG:4326'})\n",
    "# G_tt = ox.add_edge_travel_times(G_comb)\n",
    "# #make gdf from graph\n",
    "# nodes_gtt, edges_gtt = ox.utils_graph.graph_to_gdfs(G_tt)"
   ]
  },
  {
   "cell_type": "code",
   "execution_count": null,
   "metadata": {},
   "outputs": [],
   "source": [
    "ox.io.save_graphml(G_tt, filepath=pathname+'_graph_G_final.osm', encoding='utf-8')\n"
   ]
  }
 ],
 "metadata": {
  "language_info": {
   "name": "python"
  }
 },
 "nbformat": 4,
 "nbformat_minor": 2
}
